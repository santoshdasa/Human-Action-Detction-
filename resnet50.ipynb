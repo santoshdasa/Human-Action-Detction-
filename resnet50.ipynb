{
 "cells": [
  {
   "cell_type": "code",
   "execution_count": 2,
   "metadata": {},
   "outputs": [
    {
     "name": "stderr",
     "output_type": "stream",
     "text": [
      "C:\\Users\\santosh\\Anaconda3\\lib\\site-packages\\h5py\\__init__.py:36: FutureWarning: Conversion of the second argument of issubdtype from `float` to `np.floating` is deprecated. In future, it will be treated as `np.float64 == np.dtype(float).type`.\n",
      "  from ._conv import register_converters as _register_converters\n",
      "Using TensorFlow backend.\n"
     ]
    }
   ],
   "source": [
    "import numpy as np\n",
    "import matplotlib.pyplot as plt\n",
    "import cv2\n",
    "import pickle\n",
    "import os\n",
    "from tqdm import tqdm\n",
    "import pandas as pd\n",
    "import seaborn as sns\n",
    "import tensorflow as tf\n",
    "from tensorflow.keras.preprocessing.image import ImageDataGenerator\n",
    "from keras.models import Sequential\n",
    "from keras.layers import Dense, Dropout, Activation, Flatten\n",
    "from keras.layers import Conv2D, MaxPooling2D\n",
    "from keras import backend as K\n",
    "import pickle\n",
    "from sklearn.model_selection import train_test_split\n",
    "import keras\n",
    "from keras.layers import Dense,GlobalAveragePooling2D\n",
    "from keras.applications import MobileNet\n",
    "from keras.preprocessing import image\n",
    "from keras.applications.mobilenet import preprocess_input\n",
    "from keras.preprocessing.image import ImageDataGenerator\n",
    "from keras.models import Model\n",
    "\n",
    "from keras.optimizers import Adam\n",
    "from keras import applications\n",
    "from keras.layers import Dense,GlobalAveragePooling2D,Dropout\n",
    "from keras.applications import MobileNet\n",
    "from keras.preprocessing import image\n",
    "from keras.applications.mobilenet import preprocess_input\n",
    "from keras.preprocessing.image import ImageDataGenerator\n",
    "from keras.models import Model\n",
    "from keras.optimizers import Adam\n",
    "\n",
    "# this function is used to update the plots for each epoch and error\n",
    "import matplotlib.pyplot as plt\n",
    "def plt_dynamic(x, vy, ty, ax, colors=['b']):\n",
    "    ax.plot(x, vy, 'b', label=\"Validation Loss\")\n",
    "    ax.plot(x, ty, 'r', label=\"Train Loss\")\n",
    "    plt.legend()\n",
    "    plt.grid()\n",
    "    fig.canvas.draw()\n",
    "    plt.show()\n",
    "    \n",
    "    "
   ]
  },
  {
   "cell_type": "code",
   "execution_count": 1,
   "metadata": {},
   "outputs": [],
   "source": [
    "import joblib\n",
    "x_train=joblib.load('X_train80.joblib')\n",
    "\n",
    "x_test=joblib.load('X_test20.joblib')\n",
    "\n",
    "y_train=joblib.load('y_train80.joblib')\n",
    "\n",
    "y_test=joblib.load('y_test20.joblib')"
   ]
  },
  {
   "cell_type": "code",
   "execution_count": 4,
   "metadata": {},
   "outputs": [
    {
     "data": {
      "text/plain": [
       "<matplotlib.axes._subplots.AxesSubplot at 0x227ac7d01d0>"
      ]
     },
     "execution_count": 4,
     "metadata": {},
     "output_type": "execute_result"
    },
    {
     "data": {
      "image/png": "[encoded data removed]",
      "text/plain": [
       "<matplotlib.figure.Figure at 0x2279afa7ac8>"
      ]
     },
     "metadata": {
      "needs_background": "light"
     },
     "output_type": "display_data"
    }
   ],
   "source": [
    "sns.countplot(y_train)"
   ]
  },
  {
   "cell_type": "code",
   "execution_count": 5,
   "metadata": {},
   "outputs": [
    {
     "data": {
      "text/plain": [
       "<matplotlib.axes._subplots.AxesSubplot at 0x227ac8479b0>"
      ]
     },
     "execution_count": 5,
     "metadata": {},
     "output_type": "execute_result"
    },
    {
     "data": {
      "image/png": "[encoded data removed]",
      "text/plain": [
       "<matplotlib.figure.Figure at 0x227ac87a198>"
      ]
     },
     "metadata": {
      "needs_background": "light"
     },
     "output_type": "display_data"
    }
   ],
   "source": [
    "sns.countplot(y_test)"
   ]
  },
  {
   "cell_type": "code",
   "execution_count": 3,
   "metadata": {},
   "outputs": [
    {
     "name": "stdout",
     "output_type": "stream",
     "text": [
      "x_train shape: (1376, 224, 224, 3)\n",
      "1376 train samples\n",
      "344 test samples\n"
     ]
    }
   ],
   "source": [
    "num_classes=6\n",
    "\n",
    "x_train = tf.keras.utils.normalize(x_train)\n",
    "x_test = tf.keras.utils.normalize(x_test)\n",
    "\n",
    "print('x_train shape:', x_train.shape)\n",
    "print(x_train.shape[0], 'train samples')\n",
    "print(x_test.shape[0], 'test samples')\n",
    "\n",
    "\n",
    "y_train = keras.utils.to_categorical(y_train, num_classes)\n",
    "y_test = keras.utils.to_categorical(y_test, num_classes)"
   ]
  },
  {
   "cell_type": "code",
   "execution_count": 5,
   "metadata": {},
   "outputs": [
    {
     "name": "stderr",
     "output_type": "stream",
     "text": [
      "C:\\Users\\santosh\\Anaconda3\\lib\\site-packages\\keras_applications\\resnet50.py:265: UserWarning: The output shape of `ResNet50(include_top=False)` has been changed since Keras 2.2.0.\n",
      "  warnings.warn('The output shape of `ResNet50(include_top=False)` '\n"
     ]
    }
   ],
   "source": [
    "#image_input = Input(shape=(224, 224, 3))\n",
    "from keras.applications import ResNet50\n",
    "model = ResNet50(weights='imagenet',include_top=False)\n",
    "#model.summary()\n",
    "last_layer = model.output\n",
    "# add a global spatial average pooling layer\n",
    "x = GlobalAveragePooling2D()(last_layer)\n",
    "# add fully-connected & dropout layers\n",
    "x = Dense(512, activation='relu',name='fc-1')(x)\n",
    "x = Dense(256, activation='relu',name='fc-2')(x)\n",
    "# a sigmoid layer for 2 classes\n",
    "out = Dense(6, activation='softmax',name='output_layer')(x)\n",
    "\n",
    "# this is the model we will train\n"
   ]
  },
  {
   "cell_type": "code",
   "execution_count": 6,
   "metadata": {},
   "outputs": [
    {
     "name": "stdout",
     "output_type": "stream",
     "text": [
      "Training time: -3069.6037499904633\n",
      "344/344 [==============================] - ETA: 2: - ETA: 3: - ETA: 3: - ETA: 3: - ETA: 3: - ETA: 3: - ETA: 3: - ETA: 2: - ETA: 2: - ETA: 2: - ETA: 2: - ETA: 2: - ETA: 2: - ETA: 2: - ETA: 2: - ETA: 1: - ETA: 1: - ETA: 1: - ETA: 1: - ETA: 1: - ETA: 1: - ETA: 1: - ETA: 1: - ETA: 59s - ETA: 53 - ETA: 47 - ETA: 40 - ETA: 34 - ETA: 29 - ETA: 23 - ETA: 17 - ETA: 12 - ETA: 7 - ETA:  - 176s 513ms/step\n",
      "[INFO] loss=0.7045, accuracy: 71.1240%\n"
     ]
    }
   ],
   "source": [
    "import time\n",
    "custom_resnet_model2 = Model(inputs=model.input, outputs=out)\n",
    "\n",
    "#custom_resnet_model2.summary()\n",
    "\n",
    "for layer in custom_resnet_model2.layers[:-6]:\n",
    "\tlayer.trainable = False\n",
    "\n",
    "custom_resnet_model2.layers[-6].trainable\n",
    "\n",
    "custom_resnet_model2.compile(loss='categorical_crossentropy',optimizer='adam',metrics=['accuracy'])\n",
    "\n",
    "t=time.time()\n",
    "hist = custom_resnet_model2.fit(x_train, y_train, batch_size=32, epochs=300, verbose=0, validation_data=(x_test, y_test))\n",
    "print('Training time: %s' % (t - time.time()))\n",
    "(loss, accuracy) = custom_resnet_model2.evaluate(x_test, y_test, batch_size=10, verbose=1)\n",
    "\n",
    "print(\"[INFO] loss={:.4f}, accuracy: {:.4f}%\".format(loss,accuracy * 100))\n"
   ]
  },
  {
   "cell_type": "code",
   "execution_count": 8,
   "metadata": {},
   "outputs": [
    {
     "data": {
      "image/png": "[encoded data removed]",
      "text/plain": [
       "<matplotlib.figure.Figure at 0x18d5008dc88>"
      ]
     },
     "metadata": {
      "needs_background": "light"
     },
     "output_type": "display_data"
    }
   ],
   "source": [
    "fig,ax = plt.subplots(1,1)\n",
    "ax.set_xlabel('epoch') ; ax.set_ylabel('Categorical Crossentropy Loss')\n",
    "x = list(range(1,3+1))\n",
    "\n",
    "vy = hist.history['val_loss']\n",
    "ty = hist.history['loss']\n",
    "plt_dynamic(x, vy, ty, ax)\n",
    "plt.show()"
   ]
  },
  {
   "cell_type": "code",
   "execution_count": null,
   "metadata": {},
   "outputs": [],
   "source": []
  },
  {
   "cell_type": "code",
   "execution_count": 9,
   "metadata": {},
   "outputs": [
    {
     "name": "stderr",
     "output_type": "stream",
     "text": [
      "C:\\Users\\santosh\\Anaconda3\\lib\\site-packages\\keras_applications\\mobilenet.py:207: UserWarning: MobileNet shape is undefined. Weights for input shape (224, 224) will be loaded.\n",
      "  warnings.warn('MobileNet shape is undefined.'\n"
     ]
    }
   ],
   "source": [
    "base_model=MobileNet(weights='imagenet',include_top=False) \n",
    "x=base_model.output\n",
    "x=GlobalAveragePooling2D()(x)\n",
    "x=Dense(512,activation='relu')(x)\n",
    "x=Dropout(0.35)(x)\n",
    "x=Dense(256,activation='relu')(x) \n",
    "x=Dropout(0.25)(x)\n",
    "x=Dense(128,activation='relu')(x) \n",
    "preds=Dense(6,activation='softmax')(x) \n",
    "model=Model(inputs=base_model.input,outputs=preds)\n",
    "for layer in model.layers[:17]:\n",
    "    layer.trainable=False\n",
    "for layer in model.layers[17:]:\n",
    "    layer.trainable=True\n",
    "model.compile(optimizer='Adam',loss='categorical_crossentropy',metrics=['accuracy'])"
   ]
  },
  {
   "cell_type": "code",
   "execution_count": 12,
   "metadata": {},
   "outputs": [
    {
     "name": "stdout",
     "output_type": "stream",
     "text": [
      "Train on 963 samples, validate on 413 samples\n",
      "Epoch 1/3\n",
      "963/963 [==============================] - ETA: 23:46 - loss: 2.1345 - acc: 0.14 - ETA: 17:58 - loss: 1.9217 - acc: 0.26 - ETA: 15:50 - loss: 1.7805 - acc: 0.29 - ETA: 14:32 - loss: 1.7331 - acc: 0.33 - ETA: 13:35 - loss: 1.5914 - acc: 0.40 - ETA: 12:48 - loss: 1.4581 - acc: 0.45 - ETA: 12:11 - loss: 1.3493 - acc: 0.50 - ETA: 11:35 - loss: 1.2605 - acc: 0.54 - ETA: 11:03 - loss: 1.1870 - acc: 0.56 - ETA: 10:33 - loss: 1.0997 - acc: 0.59 - ETA: 10:01 - loss: 1.0461 - acc: 0.61 - ETA: 9:32 - loss: 0.9838 - acc: 0.6399 - ETA: 9:02 - loss: 0.9484 - acc: 0.651 - ETA: 8:35 - loss: 0.9141 - acc: 0.663 - ETA: 8:10 - loss: 0.8689 - acc: 0.681 - ETA: 7:44 - loss: 0.8252 - acc: 0.696 - ETA: 7:20 - loss: 0.7892 - acc: 0.710 - ETA: 6:57 - loss: 0.7528 - acc: 0.722 - ETA: 6:32 - loss: 0.7332 - acc: 0.731 - ETA: 6:05 - loss: 0.7111 - acc: 0.739 - ETA: 5:39 - loss: 0.6993 - acc: 0.743 - ETA: 5:13 - loss: 0.6950 - acc: 0.745 - ETA: 4:47 - loss: 0.6834 - acc: 0.750 - ETA: 4:21 - loss: 0.6752 - acc: 0.756 - ETA: 3:56 - loss: 0.6545 - acc: 0.764 - ETA: 3:31 - loss: 0.6495 - acc: 0.767 - ETA: 3:06 - loss: 0.6458 - acc: 0.768 - ETA: 2:41 - loss: 0.6329 - acc: 0.773 - ETA: 2:15 - loss: 0.6128 - acc: 0.780 - ETA: 1:50 - loss: 0.5973 - acc: 0.784 - ETA: 1:25 - loss: 0.5838 - acc: 0.790 - ETA: 1:00 - loss: 0.5672 - acc: 0.795 - ETA: 34s - loss: 0.5603 - acc: 0.798 - ETA: 9s - loss: 0.5455 - acc: 0.8046 - 981s 1s/step - loss: 0.5404 - acc: 0.8069 - val_loss: 2.9472 - val_acc: 0.3099\n",
      "Epoch 2/3\n",
      "963/963 [==============================] - ETA: 13:24 - loss: 0.0915 - acc: 0.96 - ETA: 12:55 - loss: 0.0631 - acc: 0.98 - ETA: 12:25 - loss: 0.0899 - acc: 0.97 - ETA: 11:58 - loss: 0.1139 - acc: 0.95 - ETA: 11:39 - loss: 0.1064 - acc: 0.96 - ETA: 11:11 - loss: 0.0893 - acc: 0.97 - ETA: 10:49 - loss: 0.0810 - acc: 0.97 - ETA: 10:26 - loss: 0.0821 - acc: 0.97 - ETA: 10:03 - loss: 0.0747 - acc: 0.97 - ETA: 9:38 - loss: 0.0704 - acc: 0.9750 - ETA: 9:15 - loss: 0.0833 - acc: 0.974 - ETA: 8:51 - loss: 0.0777 - acc: 0.976 - ETA: 8:26 - loss: 0.0771 - acc: 0.975 - ETA: 8:00 - loss: 0.0997 - acc: 0.971 - ETA: 7:34 - loss: 0.0939 - acc: 0.973 - ETA: 7:10 - loss: 0.1039 - acc: 0.971 - ETA: 6:45 - loss: 0.1316 - acc: 0.962 - ETA: 6:23 - loss: 0.1509 - acc: 0.962 - ETA: 6:00 - loss: 0.1573 - acc: 0.956 - ETA: 5:38 - loss: 0.1575 - acc: 0.957 - ETA: 5:15 - loss: 0.1661 - acc: 0.952 - ETA: 4:52 - loss: 0.1629 - acc: 0.951 - ETA: 4:28 - loss: 0.1658 - acc: 0.951 - ETA: 4:04 - loss: 0.1711 - acc: 0.949 - ETA: 3:41 - loss: 0.1782 - acc: 0.948 - ETA: 3:18 - loss: 0.1719 - acc: 0.950 - ETA: 2:55 - loss: 0.1761 - acc: 0.945 - ETA: 2:31 - loss: 0.1736 - acc: 0.946 - ETA: 2:08 - loss: 0.1906 - acc: 0.944 - ETA: 1:44 - loss: 0.1868 - acc: 0.945 - ETA: 1:21 - loss: 0.1855 - acc: 0.947 - ETA: 57s - loss: 0.1819 - acc: 0.947 - ETA: 33s - loss: 0.1802 - acc: 0.94 - ETA: 9s - loss: 0.1800 - acc: 0.9485 - 945s 981ms/step - loss: 0.1781 - acc: 0.9491 - val_loss: 5.1101 - val_acc: 0.1453\n",
      "Epoch 3/3\n",
      "963/963 [==============================] - ETA: 14:13 - loss: 0.1443 - acc: 0.96 - ETA: 13:34 - loss: 0.1194 - acc: 0.96 - ETA: 13:13 - loss: 0.0836 - acc: 0.97 - ETA: 12:58 - loss: 0.0647 - acc: 0.98 - ETA: 12:23 - loss: 0.0522 - acc: 0.98 - ETA: 11:52 - loss: 0.0498 - acc: 0.98 - ETA: 11:25 - loss: 0.0545 - acc: 0.98 - ETA: 10:58 - loss: 0.0481 - acc: 0.98 - ETA: 10:30 - loss: 0.0435 - acc: 0.98 - ETA: 10:05 - loss: 0.0655 - acc: 0.98 - ETA: 9:43 - loss: 0.0601 - acc: 0.9870 - ETA: 9:18 - loss: 0.0667 - acc: 0.985 - ETA: 8:57 - loss: 0.0672 - acc: 0.983 - ETA: 8:32 - loss: 0.0625 - acc: 0.984 - ETA: 8:09 - loss: 0.0739 - acc: 0.981 - ETA: 7:45 - loss: 0.0694 - acc: 0.982 - ETA: 7:20 - loss: 0.0892 - acc: 0.979 - ETA: 6:53 - loss: 0.0913 - acc: 0.978 - ETA: 6:28 - loss: 0.0895 - acc: 0.977 - ETA: 6:01 - loss: 0.0862 - acc: 0.978 - ETA: 5:35 - loss: 0.0834 - acc: 0.979 - ETA: 5:10 - loss: 0.0799 - acc: 0.980 - ETA: 4:45 - loss: 0.0823 - acc: 0.978 - ETA: 4:20 - loss: 0.0793 - acc: 0.979 - ETA: 3:55 - loss: 0.0762 - acc: 0.980 - ETA: 3:30 - loss: 0.0737 - acc: 0.980 - ETA: 3:04 - loss: 0.0764 - acc: 0.978 - ETA: 2:39 - loss: 0.0746 - acc: 0.979 - ETA: 2:14 - loss: 0.0738 - acc: 0.979 - ETA: 1:49 - loss: 0.0717 - acc: 0.979 - ETA: 1:24 - loss: 0.0695 - acc: 0.980 - ETA: 59s - loss: 0.0680 - acc: 0.981 - ETA: 34s - loss: 0.0659 - acc: 0.98 - ETA: 9s - loss: 0.0640 - acc: 0.9821 - 970s 1s/step - loss: 0.0647 - acc: 0.9813 - val_loss: 2.3586 - val_acc: 0.4722\n"
     ]
    }
   ],
   "source": [
    "hist=model.fit(x_train,y_train,epochs=3,batch_size=28,validation_split=0.3,verbose=1)"
   ]
  },
  {
   "cell_type": "code",
   "execution_count": 13,
   "metadata": {},
   "outputs": [
    {
     "name": "stdout",
     "output_type": "stream",
     "text": [
      "344/344 [==============================] - ETA: 1: - ETA: 1: - ETA: 1: - ETA: 1: - ETA: 53s - ETA: 43 - ETA: 34 - ETA: 25 - ETA: 15 - ETA: 6 - 96s 279ms/step\n"
     ]
    }
   ],
   "source": [
    "score=model.evaluate(x_test,y_test)\n"
   ]
  },
  {
   "cell_type": "code",
   "execution_count": 15,
   "metadata": {},
   "outputs": [
    {
     "name": "stdout",
     "output_type": "stream",
     "text": [
      "Test score: 2.672246212183043\n",
      "Test accuracy: 0.42151162790697677\n"
     ]
    },
    {
     "data": {
      "image/png": "[encoded data removed]",
      "text/plain": [
       "<matplotlib.figure.Figure at 0x18e07e1fd30>"
      ]
     },
     "metadata": {
      "needs_background": "light"
     },
     "output_type": "display_data"
    }
   ],
   "source": [
    "print('Test score:', score[0]) \n",
    "print('Test accuracy:', score[1])\n",
    "\n",
    "fig,ax = plt.subplots(1,1)\n",
    "ax.set_xlabel('epoch') ; ax.set_ylabel('Categorical Crossentropy Loss')\n",
    "x = list(range(1,3+1))\n",
    "\n",
    "vy = hist.history['val_loss']\n",
    "ty = hist.history['loss']\n",
    "plt_dynamic(x, vy, ty, ax)\n",
    "plt.show()"
   ]
  },
  {
   "cell_type": "code",
   "execution_count": null,
   "metadata": {},
   "outputs": [],
   "source": []
  },
  {
   "cell_type": "code",
   "execution_count": null,
   "metadata": {},
   "outputs": [],
   "source": []
  },
  {
   "cell_type": "code",
   "execution_count": null,
   "metadata": {},
   "outputs": [],
   "source": []
  },
  {
   "cell_type": "code",
   "execution_count": null,
   "metadata": {},
   "outputs": [],
   "source": []
  }
 ],
 "metadata": {
  "kernelspec": {
   "display_name": "Python 3",
   "language": "python",
   "name": "python3"
  },
  "language_info": {
   "codemirror_mode": {
    "name": "ipython",
    "version": 3
   },
   "file_extension": ".py",
   "mimetype": "text/x-python",
   "name": "python",
   "nbconvert_exporter": "python",
   "pygments_lexer": "ipython3",
   "version": "3.6.4"
  }
 },
 "nbformat": 4,
 "nbformat_minor": 2
}
